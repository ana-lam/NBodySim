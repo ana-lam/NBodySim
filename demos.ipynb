{
 "cells": [
  {
   "cell_type": "markdown",
   "metadata": {},
   "source": [
    "## The N-Body Problem: An Exploration of Numerical Integration & Dynamics\n",
    "**Ana Lam, 12/12/23 CompMeth Final Project**"
   ]
  },
  {
   "cell_type": "markdown",
   "metadata": {},
   "source": [
    "![3bodyurl](https://upload.wikimedia.org/wikipedia/commons/c/c9/Three_body_problem_figure-8_orbit_animation.gif \"3body\")"
   ]
  },
  {
   "cell_type": "markdown",
   "metadata": {},
   "source": [
    "The N-body problem involves predicting and understanding a dynamical system of many bodies under the influence of physical forces (e.g. gravity). For N > 2, analytical methods prove complicated though there exist solutions to special configurations of the 3 body problem and one could theoretically solve the power series (its convergence can be described as elusive). Therefore, numerical methods have proved powerful in understanding the behavior of N-body systems."
   ]
  },
  {
   "cell_type": "markdown",
   "metadata": {},
   "source": [
    "![lawofgravity](imgs/lawofgravity.png \"lawofgravity\")"
   ]
  },
  {
   "cell_type": "markdown",
   "metadata": {},
   "source": [
    "My N-Body Simulation module can be described by the code schematic below. It leverages 4 different integration methods (Leapfrog, Runge-Kutta 4th Order, Velocity-Verlet, and Yoshida 4th Order) to solve the paths of motion and velocity for a system under gravitational or electrostatic forces.\n",
    "\n",
    "![codeschematic](imgs/code_schematic.png \"codeschematic\")"
   ]
  },
  {
   "cell_type": "markdown",
   "metadata": {},
   "source": [
    "`main.py` is the file that begins the N-Body Simulation and generates a `.mp4` file with the trajectories of the bodies under the influence of either force. One can either run the `main.py` file from the command line and input initial parameters when prompted or specify initial parameters as argument flags. Before running, make sure dependencies are installed. Run `pip install -r requirements.txt`.\n",
    "\n",
    "***Note**: Running from the command line is much better than running in a Jupyter notebook because `multiprocessing.pool` does not play well with interactive interpreters. If you do choose to run in Jupyter you might need to restart the kernel for every subsequent `%run` so that the pool spawns properly."
   ]
  },
  {
   "cell_type": "code",
   "execution_count": 5,
   "metadata": {},
   "outputs": [
    {
     "name": "stdout",
     "output_type": "stream",
     "text": [
      "usage: main.py [-h] [--num-bodies NUM_BODIES] [--gravity] [--coulomb]\n",
      "               [--dimensionless] [--mass MASS [MASS ...]]\n",
      "               [--x-vec X_VEC [X_VEC ...]] [--v-vec V_VEC [V_VEC ...]]\n",
      "               [--charge CHARGE [CHARGE ...]]\n",
      "               [--int {RK4,leapfrog,velocity_verlet,yoshida}] [--T [T]]\n",
      "               [--dt [DT]] [--file-name FILE_NAME]\n",
      "               [--skip-frames [SKIP_FRAMES]] [--fps [FPS]]\n",
      "\n",
      "Run N Body Simulations using numerical integration methods of choice & animate\n",
      "them.\n",
      "\n",
      "options:\n",
      "  -h, --help            show this help message and exit\n",
      "  --num-bodies NUM_BODIES\n",
      "                        Number of bodies in the simulation (simulation)\n",
      "  --gravity             Model gravitational forces (simulation)\n",
      "  --coulomb             Model electrostatic forces (simulation)\n",
      "  --dimensionless       Dimensionless, constants=1 (simulation)\n",
      "  --mass MASS [MASS ...]\n",
      "                        Mass of the bodies (simulation)\n",
      "  --x-vec X_VEC [X_VEC ...]\n",
      "                        Position vector (x, y, z) of the bodies (simulation)\n",
      "  --v-vec V_VEC [V_VEC ...]\n",
      "                        Velocity vector (vx, vy, vz) of the bodies\n",
      "                        (simulation)\n",
      "  --charge CHARGE [CHARGE ...]\n",
      "                        Charge of the bodies (simulation)\n",
      "  --int {RK4,leapfrog,velocity_verlet,yoshida}\n",
      "                        Integration method (simulation)\n",
      "  --T [T]               Total time to run simulation (simulation)\n",
      "  --dt [DT]             Timestep size (simulation)\n",
      "  --file-name FILE_NAME\n",
      "                        Name for mp4 file (animation)\n",
      "  --skip-frames [SKIP_FRAMES]\n",
      "                        Skip frames (animation)\n",
      "  --fps [FPS]           Frames per second (animation)\n"
     ]
    }
   ],
   "source": [
    "!python3 main.py -h"
   ]
  },
  {
   "cell_type": "markdown",
   "metadata": {},
   "source": [
    "### **I.  Binary Star System**"
   ]
  },
  {
   "cell_type": "code",
   "execution_count": 3,
   "metadata": {},
   "outputs": [],
   "source": [
    "from IPython.display import Video"
   ]
  },
  {
   "cell_type": "code",
   "execution_count": 1,
   "metadata": {},
   "outputs": [
    {
     "name": "stdout",
     "output_type": "stream",
     "text": [
      "\n",
      "\n",
      "Initialized the following bodies:\n",
      "Body 1 - mass: 2e+30, x_vec: [-5.e+10  0.e+00  0.e+00], v_vec: [     0. -20000.      0.]\n",
      "Body 2 - mass: 2e+30, x_vec: [5.e+10 0.e+00 0.e+00], v_vec: [    0. 20000.     0.]\n",
      "\n",
      "\n",
      "Now we will begin time evolving!!\n",
      "Begin sim:\n",
      "Using RK4...\n",
      "Simulation completed in 0.31207799911499023 seconds\n",
      "\n",
      "\n",
      "Moviepy - Building video animations/stars.mp4.\n",
      "Moviepy - Writing video animations/stars.mp4\n",
      "\n"
     ]
    },
    {
     "name": "stderr",
     "output_type": "stream",
     "text": [
      "                                                              \r"
     ]
    },
    {
     "name": "stdout",
     "output_type": "stream",
     "text": [
      "Moviepy - Done !\n",
      "Moviepy - video ready animations/stars.mp4\n"
     ]
    }
   ],
   "source": [
    "%run main.py --num-bodies 2 --mass 2e30 2e30 --x-vec -50000000000 0 0 50000000000 0 0 \\\n",
    "    --v-vec 0 -20000 0 0 20000 0 --T  31536000 \\\n",
    "        --dt 86400 --int RK4 --file_name stars"
   ]
  },
  {
   "cell_type": "code",
   "execution_count": 4,
   "metadata": {},
   "outputs": [
    {
     "data": {
      "text/html": [
       "<video src=\"animations/stars.mp4\" controls  >\n",
       "      Your browser does not support the <code>video</code> element.\n",
       "    </video>"
      ],
      "text/plain": [
       "<IPython.core.display.Video object>"
      ]
     },
     "execution_count": 4,
     "metadata": {},
     "output_type": "execute_result"
    }
   ],
   "source": [
    "Video(\"animations/stars.mp4\")"
   ]
  },
  {
   "cell_type": "markdown",
   "metadata": {},
   "source": [
    "### **II.  Three Body System**"
   ]
  },
  {
   "cell_type": "code",
   "execution_count": 1,
   "metadata": {},
   "outputs": [
    {
     "name": "stdout",
     "output_type": "stream",
     "text": [
      "\n",
      "\n",
      "Initialized the following bodies:\n",
      "Body 1 - mass: 1.0, x_vec: [-1.0024278   0.00416951  0.        ], v_vec: [0.3489049  0.53063051 0.        ]\n",
      "Body 2 - mass: 1.0, x_vec: [ 1.0024278  -0.00416951  0.        ], v_vec: [0.3489049  0.53063051 0.        ]\n",
      "Body 3 - mass: 1.0, x_vec: [0. 0. 0.], v_vec: [-0.69780979 -1.06126102  0.        ]\n",
      "\n",
      "\n",
      "Now we will begin time evolving!!\n",
      "Begin sim:\n",
      "Using leapfrog...\n",
      "Simulation completed in 0.8628499507904053 seconds\n",
      "\n",
      "\n",
      "Moviepy - Building video animations/3body.mp4.\n",
      "Moviepy - Writing video animations/3body.mp4\n",
      "\n"
     ]
    },
    {
     "name": "stderr",
     "output_type": "stream",
     "text": [
      "                                                              \r"
     ]
    },
    {
     "name": "stdout",
     "output_type": "stream",
     "text": [
      "Moviepy - Done !\n",
      "Moviepy - video ready animations/3body.mp4\n"
     ]
    }
   ],
   "source": [
    "%run main.py --num-bodies 3 --mass 1 1 1 --x-vec -1.0024277970 0.0041695061 0 1.0024277970 -0.0041695061 0 0 0 0 \\\n",
    "    --v-vec 0.3489048974 0.5306305100 0 0.3489048974 0.5306305100 0 -0.6978097948 -1.06126102 0 --dimensionless --T 38.0942843574 \\\n",
    "        --dt 0.03809428435 --int leapfrog --file_name 3body"
   ]
  },
  {
   "cell_type": "code",
   "execution_count": 4,
   "metadata": {},
   "outputs": [
    {
     "data": {
      "text/html": [
       "<video src=\"animations/3body.mp4\" controls  >\n",
       "      Your browser does not support the <code>video</code> element.\n",
       "    </video>"
      ],
      "text/plain": [
       "<IPython.core.display.Video object>"
      ]
     },
     "execution_count": 4,
     "metadata": {},
     "output_type": "execute_result"
    }
   ],
   "source": [
    "Video(\"animations/3body.mp4\")"
   ]
  },
  {
   "cell_type": "markdown",
   "metadata": {},
   "source": [
    "### **III.  Solar System**"
   ]
  },
  {
   "cell_type": "code",
   "execution_count": 1,
   "metadata": {},
   "outputs": [
    {
     "name": "stdout",
     "output_type": "stream",
     "text": [
      "\n",
      "\n",
      "Initialized the following bodies:\n",
      "Body 1 - mass: 1.989e+30, x_vec: [0. 0. 0.], v_vec: [0. 0. 0.]\n",
      "Body 2 - mass: 3.285e+23, x_vec: [0.0e+00 5.7e+10 0.0e+00], v_vec: [47000.     0.     0.]\n",
      "Body 3 - mass: 4.867e+24, x_vec: [0.00e+00 1.08e+11 0.00e+00], v_vec: [35000.     0.     0.]\n",
      "Body 4 - mass: 5.972e+24, x_vec: [1.5e+11 0.0e+00 0.0e+00], v_vec: [    0. 30000.     0.]\n",
      "Body 5 - mass: 6.39e+23, x_vec: [0.00e+00 2.28e+11 0.00e+00], v_vec: [-24000.      0.      0.]\n",
      "Body 6 - mass: 1.898e+27, x_vec: [0.00e+00 7.78e+11 0.00e+00], v_vec: [13000.     0.     0.]\n",
      "Body 7 - mass: 5.683e+26, x_vec: [0.00e+00 1.43e+12 0.00e+00], v_vec: [9000.    0.    0.]\n",
      "Body 8 - mass: 8.681e+25, x_vec: [0.00e+00 2.87e+12 0.00e+00], v_vec: [6835.    0.    0.]\n",
      "Body 9 - mass: 1.024e+26, x_vec: [0.0e+00 4.5e+12 0.0e+00], v_vec: [5477.    0.    0.]\n",
      "\n",
      "\n",
      "Now we will begin time evolving!!\n",
      "Begin sim:\n",
      "Using yoshida...\n",
      "Simulation completed in 144.20611190795898 seconds\n",
      "\n",
      "\n",
      "Moviepy - Building video animations/solarsystem.mp4.\n",
      "Moviepy - Writing video animations/solarsystem.mp4\n",
      "\n"
     ]
    },
    {
     "name": "stderr",
     "output_type": "stream",
     "text": [
      "                                                              \r"
     ]
    },
    {
     "name": "stdout",
     "output_type": "stream",
     "text": [
      "Moviepy - Done !\n",
      "Moviepy - video ready animations/solarsystem.mp4\n"
     ]
    }
   ],
   "source": [
    "%run main.py --num-bodies 9 --mass 1.989e30 3.285e23 4.867e24 5.972e24 6.39e23 1.898e27 5.683e26 8.681e25 1.024e26 \\\n",
    "    --x-vec 0 0 0 0 57000000000 0 0 108000000000 0 150000000000 0 0 0 228000000000 0 \\\n",
    "        0 778000000000 0 0 1430000000000 0 0 2870000000000 0 0 4500000000000 0 \\\n",
    "    --v-vec 0 0 0 47000 0 0 35000 0 0 0 30000 0 -24000 0 0 13000 0 0 9000 0 0 6835 0 0 5477 0 0 --T  4036608000 \\\n",
    "        --dt 86400 --int yoshida --file-name solarsystem --skip-frames 200 --fps 60"
   ]
  },
  {
   "cell_type": "code",
   "execution_count": 3,
   "metadata": {},
   "outputs": [
    {
     "data": {
      "text/html": [
       "<video src=\"animations/solarsystem.mp4\" controls  >\n",
       "      Your browser does not support the <code>video</code> element.\n",
       "    </video>"
      ],
      "text/plain": [
       "<IPython.core.display.Video object>"
      ]
     },
     "execution_count": 3,
     "metadata": {},
     "output_type": "execute_result"
    }
   ],
   "source": [
    "Video(\"animations/solarsystem.mp4\")"
   ]
  },
  {
   "cell_type": "markdown",
   "metadata": {},
   "source": [
    "### **IV.  Charged Particles**"
   ]
  },
  {
   "cell_type": "code",
   "execution_count": 1,
   "metadata": {},
   "outputs": [
    {
     "name": "stdout",
     "output_type": "stream",
     "text": [
      "\n",
      "\n",
      "Initialized the following bodies:\n",
      "Body 1 - mass: 1.0, x_vec: [ 2.  -1.5  0. ], v_vec: [ 0.2 -0.1  0. ], charge: -2.0\n",
      "Body 2 - mass: 1.0, x_vec: [-0.7  1.2  0. ], v_vec: [-0.5  0.7  0. ], charge: 1.0\n",
      "Body 3 - mass: 1.0, x_vec: [1.5 0.3 0. ], v_vec: [ 0.1 -0.2  0. ], charge: 3.0\n",
      "Body 4 - mass: 1.0, x_vec: [0. 0. 0.], v_vec: [-0.3  0.5  0. ], charge: -1.0\n",
      "Body 5 - mass: 1.0, x_vec: [ 0.5 -1.   0. ], v_vec: [0.4 0.6 0. ], charge: -4.0\n",
      "Body 6 - mass: 1.0, x_vec: [1.  0.4 0. ], v_vec: [-0.2  0.3  0. ], charge: 2.0\n",
      "Body 7 - mass: 1.0, x_vec: [2. 1. 0.], v_vec: [ 0.6 -0.4  0. ], charge: 1.0\n",
      "Body 8 - mass: 1.0, x_vec: [0.75 0.75 0.  ], v_vec: [0. 0. 0.], charge: 2.0\n",
      "Body 9 - mass: 1.0, x_vec: [-1.5 -0.4  0. ], v_vec: [0.2 0.2 0. ], charge: 3.0\n",
      "Body 10 - mass: 1.0, x_vec: [-0.3 -0.3  0. ], v_vec: [-0.1 -0.3  0. ], charge: -2.0\n",
      "\n",
      "\n",
      "Now we will begin time evolving!!\n",
      "Begin sim:\n",
      "Using velocity_verlet...\n",
      "Simulation completed in 0.43703198432922363 seconds\n",
      "\n",
      "\n",
      "Moviepy - Building video animations/chargedparticles.mp4.\n",
      "Moviepy - Writing video animations/chargedparticles.mp4\n",
      "\n"
     ]
    },
    {
     "name": "stderr",
     "output_type": "stream",
     "text": [
      "                                                              \r"
     ]
    },
    {
     "name": "stdout",
     "output_type": "stream",
     "text": [
      "Moviepy - Done !\n",
      "Moviepy - video ready animations/chargedparticles.mp4\n"
     ]
    }
   ],
   "source": [
    "%run main.py --num-bodies 10  --coulomb \\\n",
    "    --mass 1 1 1 1 1 1 1 1 1 1 \\\n",
    "    --charge -2 1 3 -1 -4 2 1 2 3 -2 \\\n",
    "    --x-vec 2 -1.5 0 -0.7 1.2 0 1.5 0.3 0 0 0 0 0.5 -1 0 1 0.4 0 2 1 0 0.75 0.75 0 -1.5 -0.4 0 -0.3 -0.3 0 \\\n",
    "    --v-vec 0.2 -0.1 0 -0.5 0.7 0 0.1 -0.2 0 -0.3 0.5 0 0.4 0.6 0 -0.2 0.3 0 0.6 -0.4 0 0 0 0 0.2 0.2 0 -0.1 -0.3 0 \\\n",
    "    --dimensionless --T 1.5 \\\n",
    "    --dt 0.01 --int velocity_verlet --file-name chargedparticles --fps=20"
   ]
  },
  {
   "cell_type": "code",
   "execution_count": 4,
   "metadata": {},
   "outputs": [
    {
     "data": {
      "text/html": [
       "<video src=\"animations/chargedparticles.mp4\" controls  >\n",
       "      Your browser does not support the <code>video</code> element.\n",
       "    </video>"
      ],
      "text/plain": [
       "<IPython.core.display.Video object>"
      ]
     },
     "execution_count": 4,
     "metadata": {},
     "output_type": "execute_result"
    }
   ],
   "source": [
    "Video(\"animations/chargedparticles.mp4\")"
   ]
  }
 ],
 "metadata": {
  "kernelspec": {
   "display_name": "base",
   "language": "python",
   "name": "python3"
  },
  "language_info": {
   "codemirror_mode": {
    "name": "ipython",
    "version": 3
   },
   "file_extension": ".py",
   "mimetype": "text/x-python",
   "name": "python",
   "nbconvert_exporter": "python",
   "pygments_lexer": "ipython3",
   "version": "3.11.3"
  }
 },
 "nbformat": 4,
 "nbformat_minor": 2
}
